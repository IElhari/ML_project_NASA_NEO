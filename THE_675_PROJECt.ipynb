{
 "cells": [
  {
   "cell_type": "markdown",
   "metadata": {},
   "source": [
    "# Experimenting with NASA's Nearest-Earth-Objects (NEOs) Data Set"
   ]
  },
  {
   "cell_type": "markdown",
   "metadata": {},
   "source": [
    "The dataset, available on [Kaggle](https://www.kaggle.com/datasets/sameepvani/nasa-nearest-earth-objects/data), provides information on nearest-Earth objects (NEOs) discovered from January 1, 2001, to June 14, 2022, sourced directly from the Center for Near-Earth Object Studies (CNEOS) and hosted by NASA’s Jet Propulsion Laboratory. \n",
    "\n",
    "Given the characteristics of the dataset and its features, a straightforward approach for a machine learning model is to predict whether an object is hazardous to Earth using classification. This is feasible due to the inherent nature of the `Hazardous` feature as a Boolean.  Represented by `true` or `false` values, it supports the translation of these values to classification labels $𝑦,𝑦̂∈[0,1]$ for binary classification.  \n",
    "\n"
   ]
  },
  {
   "cell_type": "code",
   "execution_count": 1,
   "metadata": {},
   "outputs": [],
   "source": [
    "target = 'hazardous'\n",
    "random_state=0"
   ]
  },
  {
   "cell_type": "markdown",
   "metadata": {},
   "source": [
    "## Installing Required Dependencies "
   ]
  },
  {
   "cell_type": "markdown",
   "metadata": {},
   "source": [
    "In order to begin experimenting with the data set, certain Python packages need to be installed. These packages include libraries for data manipulation, visualization, and machine learning. Packages are installed using the `pip` package manager."
   ]
  },
  {
   "cell_type": "code",
   "execution_count": 2,
   "metadata": {},
   "outputs": [
    {
     "name": "stdout",
     "output_type": "stream",
     "text": [
      "Requirement already satisfied: plotly in c:\\users\\guttp\\appdata\\local\\packages\\pythonsoftwarefoundation.python.3.10_qbz5n2kfra8p0\\localcache\\local-packages\\python310\\site-packages (5.20.0)\n",
      "Requirement already satisfied: seaborn in c:\\users\\guttp\\appdata\\local\\packages\\pythonsoftwarefoundation.python.3.10_qbz5n2kfra8p0\\localcache\\local-packages\\python310\\site-packages (0.13.2)\n",
      "Requirement already satisfied: scikit-learn in c:\\users\\guttp\\appdata\\local\\packages\\pythonsoftwarefoundation.python.3.10_qbz5n2kfra8p0\\localcache\\local-packages\\python310\\site-packages (1.4.2)\n",
      "Requirement already satisfied: kaggle in c:\\users\\guttp\\appdata\\local\\packages\\pythonsoftwarefoundation.python.3.10_qbz5n2kfra8p0\\localcache\\local-packages\\python310\\site-packages (1.6.12)\n",
      "Requirement already satisfied: numpy in c:\\users\\guttp\\appdata\\local\\packages\\pythonsoftwarefoundation.python.3.10_qbz5n2kfra8p0\\localcache\\local-packages\\python310\\site-packages (1.26.4)\n",
      "Requirement already satisfied: matplotlib in c:\\users\\guttp\\appdata\\local\\packages\\pythonsoftwarefoundation.python.3.10_qbz5n2kfra8p0\\localcache\\local-packages\\python310\\site-packages (3.8.2)\n",
      "Requirement already satisfied: pandas in c:\\users\\guttp\\appdata\\local\\packages\\pythonsoftwarefoundation.python.3.10_qbz5n2kfra8p0\\localcache\\local-packages\\python310\\site-packages (1.4.3)\n",
      "Requirement already satisfied: pathlib in c:\\users\\guttp\\appdata\\local\\packages\\pythonsoftwarefoundation.python.3.10_qbz5n2kfra8p0\\localcache\\local-packages\\python310\\site-packages (1.0.1)\n",
      "Requirement already satisfied: scipy in c:\\users\\guttp\\appdata\\local\\packages\\pythonsoftwarefoundation.python.3.10_qbz5n2kfra8p0\\localcache\\local-packages\\python310\\site-packages (1.11.4)\n",
      "Requirement already satisfied: imbalanced-learn in c:\\users\\guttp\\appdata\\local\\packages\\pythonsoftwarefoundation.python.3.10_qbz5n2kfra8p0\\localcache\\local-packages\\python310\\site-packages (0.12.2)\n",
      "Requirement already satisfied: tenacity>=6.2.0 in c:\\users\\guttp\\appdata\\local\\packages\\pythonsoftwarefoundation.python.3.10_qbz5n2kfra8p0\\localcache\\local-packages\\python310\\site-packages (from plotly) (8.2.3)\n",
      "Requirement already satisfied: packaging in c:\\users\\guttp\\appdata\\local\\packages\\pythonsoftwarefoundation.python.3.10_qbz5n2kfra8p0\\localcache\\local-packages\\python310\\site-packages (from plotly) (24.0)\n",
      "Requirement already satisfied: joblib>=1.2.0 in c:\\users\\guttp\\appdata\\local\\packages\\pythonsoftwarefoundation.python.3.10_qbz5n2kfra8p0\\localcache\\local-packages\\python310\\site-packages (from scikit-learn) (1.4.0)\n",
      "Requirement already satisfied: threadpoolctl>=2.0.0 in c:\\users\\guttp\\appdata\\local\\packages\\pythonsoftwarefoundation.python.3.10_qbz5n2kfra8p0\\localcache\\local-packages\\python310\\site-packages (from scikit-learn) (3.4.0)\n",
      "Requirement already satisfied: six>=1.10 in c:\\users\\guttp\\appdata\\local\\packages\\pythonsoftwarefoundation.python.3.10_qbz5n2kfra8p0\\localcache\\local-packages\\python310\\site-packages (from kaggle) (1.16.0)\n",
      "Requirement already satisfied: certifi>=2023.7.22 in c:\\users\\guttp\\appdata\\local\\packages\\pythonsoftwarefoundation.python.3.10_qbz5n2kfra8p0\\localcache\\local-packages\\python310\\site-packages (from kaggle) (2023.11.17)\n",
      "Requirement already satisfied: python-dateutil in c:\\users\\guttp\\appdata\\local\\packages\\pythonsoftwarefoundation.python.3.10_qbz5n2kfra8p0\\localcache\\local-packages\\python310\\site-packages (from kaggle) (2.8.2)\n",
      "Requirement already satisfied: requests in c:\\users\\guttp\\appdata\\local\\packages\\pythonsoftwarefoundation.python.3.10_qbz5n2kfra8p0\\localcache\\local-packages\\python310\\site-packages (from kaggle) (2.31.0)\n",
      "Requirement already satisfied: tqdm in c:\\users\\guttp\\appdata\\local\\packages\\pythonsoftwarefoundation.python.3.10_qbz5n2kfra8p0\\localcache\\local-packages\\python310\\site-packages (from kaggle) (4.66.2)\n",
      "Requirement already satisfied: python-slugify in c:\\users\\guttp\\appdata\\local\\packages\\pythonsoftwarefoundation.python.3.10_qbz5n2kfra8p0\\localcache\\local-packages\\python310\\site-packages (from kaggle) (8.0.4)\n",
      "Requirement already satisfied: urllib3 in c:\\users\\guttp\\appdata\\local\\packages\\pythonsoftwarefoundation.python.3.10_qbz5n2kfra8p0\\localcache\\local-packages\\python310\\site-packages (from kaggle) (2.0.7)\n",
      "Requirement already satisfied: bleach in c:\\users\\guttp\\appdata\\local\\packages\\pythonsoftwarefoundation.python.3.10_qbz5n2kfra8p0\\localcache\\local-packages\\python310\\site-packages (from kaggle) (6.1.0)\n",
      "Requirement already satisfied: contourpy>=1.0.1 in c:\\users\\guttp\\appdata\\local\\packages\\pythonsoftwarefoundation.python.3.10_qbz5n2kfra8p0\\localcache\\local-packages\\python310\\site-packages (from matplotlib) (1.2.0)\n",
      "Requirement already satisfied: cycler>=0.10 in c:\\users\\guttp\\appdata\\local\\packages\\pythonsoftwarefoundation.python.3.10_qbz5n2kfra8p0\\localcache\\local-packages\\python310\\site-packages (from matplotlib) (0.12.1)\n",
      "Requirement already satisfied: fonttools>=4.22.0 in c:\\users\\guttp\\appdata\\local\\packages\\pythonsoftwarefoundation.python.3.10_qbz5n2kfra8p0\\localcache\\local-packages\\python310\\site-packages (from matplotlib) (4.46.0)\n",
      "Requirement already satisfied: kiwisolver>=1.3.1 in c:\\users\\guttp\\appdata\\local\\packages\\pythonsoftwarefoundation.python.3.10_qbz5n2kfra8p0\\localcache\\local-packages\\python310\\site-packages (from matplotlib) (1.4.5)\n",
      "Requirement already satisfied: pillow>=8 in c:\\users\\guttp\\appdata\\local\\packages\\pythonsoftwarefoundation.python.3.10_qbz5n2kfra8p0\\localcache\\local-packages\\python310\\site-packages (from matplotlib) (10.1.0)\n",
      "Requirement already satisfied: pyparsing>=2.3.1 in c:\\users\\guttp\\appdata\\local\\packages\\pythonsoftwarefoundation.python.3.10_qbz5n2kfra8p0\\localcache\\local-packages\\python310\\site-packages (from matplotlib) (3.0.9)\n",
      "Requirement already satisfied: pytz>=2020.1 in c:\\users\\guttp\\appdata\\local\\packages\\pythonsoftwarefoundation.python.3.10_qbz5n2kfra8p0\\localcache\\local-packages\\python310\\site-packages (from pandas) (2022.6)\n",
      "Requirement already satisfied: webencodings in c:\\users\\guttp\\appdata\\local\\packages\\pythonsoftwarefoundation.python.3.10_qbz5n2kfra8p0\\localcache\\local-packages\\python310\\site-packages (from bleach->kaggle) (0.5.1)\n",
      "Requirement already satisfied: text-unidecode>=1.3 in c:\\users\\guttp\\appdata\\local\\packages\\pythonsoftwarefoundation.python.3.10_qbz5n2kfra8p0\\localcache\\local-packages\\python310\\site-packages (from python-slugify->kaggle) (1.3)\n",
      "Requirement already satisfied: charset-normalizer<4,>=2 in c:\\users\\guttp\\appdata\\local\\packages\\pythonsoftwarefoundation.python.3.10_qbz5n2kfra8p0\\localcache\\local-packages\\python310\\site-packages (from requests->kaggle) (3.3.2)\n",
      "Requirement already satisfied: idna<4,>=2.5 in c:\\users\\guttp\\appdata\\local\\packages\\pythonsoftwarefoundation.python.3.10_qbz5n2kfra8p0\\localcache\\local-packages\\python310\\site-packages (from requests->kaggle) (3.6)\n",
      "Requirement already satisfied: colorama in c:\\users\\guttp\\appdata\\local\\packages\\pythonsoftwarefoundation.python.3.10_qbz5n2kfra8p0\\localcache\\local-packages\\python310\\site-packages (from tqdm->kaggle) (0.4.6)\n"
     ]
    }
   ],
   "source": [
    "# First things is first: Download all dependencies\n",
    "\n",
    "! pip install plotly seaborn scikit-learn kaggle numpy matplotlib pandas pathlib scipy imbalanced-learn"
   ]
  },
  {
   "cell_type": "code",
   "execution_count": 3,
   "metadata": {},
   "outputs": [],
   "source": [
    "# Next, import everything that you need. Or may need. Better safe than sorry\n",
    "\n",
    "import pandas as pd\n",
    "import matplotlib.pyplot as plt\n",
    "import plotly.express as px\n",
    "import seaborn as sns\n",
    "import numpy as np\n",
    "import sklearn as sk\n",
    "import zipfile as zp\n",
    "import pathlib as pl\n",
    "\n",
    "from sklearn.model_selection import train_test_split\n",
    "from imblearn.over_sampling import RandomOverSampler\n",
    "from sklearn.preprocessing import StandardScaler\n",
    "from xgboost import XGBRFClassifier"
   ]
  },
  {
   "cell_type": "markdown",
   "metadata": {},
   "source": [
    "## Downloading the Data Set"
   ]
  },
  {
   "cell_type": "code",
   "execution_count": 4,
   "metadata": {},
   "outputs": [
    {
     "name": "stdout",
     "output_type": "stream",
     "text": [
      "Files already extracted at the specified location.\n"
     ]
    }
   ],
   "source": [
    "# And now for the lovely dataset\n",
    "\n",
    "dl_dir = pl.Path() / 'data'\n",
    "dl_dir.mkdir(parents=True, exist_ok=True)\n",
    "\n",
    "file_path = dl_dir / 'nasa-nearest-earth-objects.zip'\n",
    "\n",
    "if file_path.exists():\n",
    "    print('Files already extracted at the specified location.')\n",
    "else:\n",
    "    ! kaggle datasets download -d sameepvani/nasa-nearest-earth-objects --force -p  {dl_dir}\n",
    "    with zp.ZipFile(file_path , 'r') as zip_ref:\n",
    "        zip_ref.extractall(dl_dir)"
   ]
  },
  {
   "cell_type": "code",
   "execution_count": 5,
   "metadata": {},
   "outputs": [],
   "source": [
    "# Renaming file path and defining the dataframe\n",
    "\n",
    "file_path = pl.Path(dl_dir) / 'neo.csv'\n",
    "\n",
    "df = pd.read_csv(file_path)"
   ]
  },
  {
   "cell_type": "markdown",
   "metadata": {},
   "source": [
    "## Data Set Overview"
   ]
  },
  {
   "cell_type": "code",
   "execution_count": 6,
   "metadata": {},
   "outputs": [
    {
     "name": "stdout",
     "output_type": "stream",
     "text": [
      "<class 'pandas.core.frame.DataFrame'>\n",
      "RangeIndex: 90836 entries, 0 to 90835\n",
      "Data columns (total 10 columns):\n",
      " #   Column              Non-Null Count  Dtype  \n",
      "---  ------              --------------  -----  \n",
      " 0   id                  90836 non-null  int64  \n",
      " 1   name                90836 non-null  object \n",
      " 2   est_diameter_min    90836 non-null  float64\n",
      " 3   est_diameter_max    90836 non-null  float64\n",
      " 4   relative_velocity   90836 non-null  float64\n",
      " 5   miss_distance       90836 non-null  float64\n",
      " 6   orbiting_body       90836 non-null  object \n",
      " 7   sentry_object       90836 non-null  bool   \n",
      " 8   absolute_magnitude  90836 non-null  float64\n",
      " 9   hazardous           90836 non-null  bool   \n",
      "dtypes: bool(2), float64(5), int64(1), object(2)\n",
      "memory usage: 5.7+ MB\n"
     ]
    }
   ],
   "source": [
    "# Hopfully this worked\n",
    "\n",
    "df.info()\n",
    "# If you get an output from that shows the informaiton of the dataset, congrats. You have now completed\n",
    "# step 1"
   ]
  },
  {
   "cell_type": "markdown",
   "metadata": {},
   "source": [
    "### Head"
   ]
  },
  {
   "cell_type": "code",
   "execution_count": 7,
   "metadata": {},
   "outputs": [
    {
     "data": {
      "text/html": [
       "<div>\n",
       "<style scoped>\n",
       "    .dataframe tbody tr th:only-of-type {\n",
       "        vertical-align: middle;\n",
       "    }\n",
       "\n",
       "    .dataframe tbody tr th {\n",
       "        vertical-align: top;\n",
       "    }\n",
       "\n",
       "    .dataframe thead th {\n",
       "        text-align: right;\n",
       "    }\n",
       "</style>\n",
       "<table border=\"1\" class=\"dataframe\">\n",
       "  <thead>\n",
       "    <tr style=\"text-align: right;\">\n",
       "      <th></th>\n",
       "      <th>id</th>\n",
       "      <th>name</th>\n",
       "      <th>est_diameter_min</th>\n",
       "      <th>est_diameter_max</th>\n",
       "      <th>relative_velocity</th>\n",
       "      <th>miss_distance</th>\n",
       "      <th>orbiting_body</th>\n",
       "      <th>sentry_object</th>\n",
       "      <th>absolute_magnitude</th>\n",
       "      <th>hazardous</th>\n",
       "    </tr>\n",
       "  </thead>\n",
       "  <tbody>\n",
       "    <tr>\n",
       "      <th>0</th>\n",
       "      <td>2162635</td>\n",
       "      <td>162635 (2000 SS164)</td>\n",
       "      <td>1.198271</td>\n",
       "      <td>2.679415</td>\n",
       "      <td>13569.249224</td>\n",
       "      <td>5.483974e+07</td>\n",
       "      <td>Earth</td>\n",
       "      <td>False</td>\n",
       "      <td>16.73</td>\n",
       "      <td>False</td>\n",
       "    </tr>\n",
       "    <tr>\n",
       "      <th>1</th>\n",
       "      <td>2277475</td>\n",
       "      <td>277475 (2005 WK4)</td>\n",
       "      <td>0.265800</td>\n",
       "      <td>0.594347</td>\n",
       "      <td>73588.726663</td>\n",
       "      <td>6.143813e+07</td>\n",
       "      <td>Earth</td>\n",
       "      <td>False</td>\n",
       "      <td>20.00</td>\n",
       "      <td>True</td>\n",
       "    </tr>\n",
       "    <tr>\n",
       "      <th>2</th>\n",
       "      <td>2512244</td>\n",
       "      <td>512244 (2015 YE18)</td>\n",
       "      <td>0.722030</td>\n",
       "      <td>1.614507</td>\n",
       "      <td>114258.692129</td>\n",
       "      <td>4.979872e+07</td>\n",
       "      <td>Earth</td>\n",
       "      <td>False</td>\n",
       "      <td>17.83</td>\n",
       "      <td>False</td>\n",
       "    </tr>\n",
       "    <tr>\n",
       "      <th>3</th>\n",
       "      <td>3596030</td>\n",
       "      <td>(2012 BV13)</td>\n",
       "      <td>0.096506</td>\n",
       "      <td>0.215794</td>\n",
       "      <td>24764.303138</td>\n",
       "      <td>2.543497e+07</td>\n",
       "      <td>Earth</td>\n",
       "      <td>False</td>\n",
       "      <td>22.20</td>\n",
       "      <td>False</td>\n",
       "    </tr>\n",
       "    <tr>\n",
       "      <th>4</th>\n",
       "      <td>3667127</td>\n",
       "      <td>(2014 GE35)</td>\n",
       "      <td>0.255009</td>\n",
       "      <td>0.570217</td>\n",
       "      <td>42737.733765</td>\n",
       "      <td>4.627557e+07</td>\n",
       "      <td>Earth</td>\n",
       "      <td>False</td>\n",
       "      <td>20.09</td>\n",
       "      <td>True</td>\n",
       "    </tr>\n",
       "    <tr>\n",
       "      <th>5</th>\n",
       "      <td>54138696</td>\n",
       "      <td>(2021 GY23)</td>\n",
       "      <td>0.036354</td>\n",
       "      <td>0.081291</td>\n",
       "      <td>34297.587778</td>\n",
       "      <td>4.058569e+07</td>\n",
       "      <td>Earth</td>\n",
       "      <td>False</td>\n",
       "      <td>24.32</td>\n",
       "      <td>False</td>\n",
       "    </tr>\n",
       "    <tr>\n",
       "      <th>6</th>\n",
       "      <td>54189957</td>\n",
       "      <td>(2021 PY40)</td>\n",
       "      <td>0.171615</td>\n",
       "      <td>0.383743</td>\n",
       "      <td>27529.472307</td>\n",
       "      <td>2.906912e+07</td>\n",
       "      <td>Earth</td>\n",
       "      <td>False</td>\n",
       "      <td>20.95</td>\n",
       "      <td>False</td>\n",
       "    </tr>\n",
       "    <tr>\n",
       "      <th>7</th>\n",
       "      <td>54230078</td>\n",
       "      <td>(2021 XD6)</td>\n",
       "      <td>0.005328</td>\n",
       "      <td>0.011914</td>\n",
       "      <td>57544.470083</td>\n",
       "      <td>5.511502e+07</td>\n",
       "      <td>Earth</td>\n",
       "      <td>False</td>\n",
       "      <td>28.49</td>\n",
       "      <td>False</td>\n",
       "    </tr>\n",
       "    <tr>\n",
       "      <th>8</th>\n",
       "      <td>2088213</td>\n",
       "      <td>88213 (2001 AF2)</td>\n",
       "      <td>0.350393</td>\n",
       "      <td>0.783502</td>\n",
       "      <td>56625.210122</td>\n",
       "      <td>6.903598e+07</td>\n",
       "      <td>Earth</td>\n",
       "      <td>False</td>\n",
       "      <td>19.40</td>\n",
       "      <td>False</td>\n",
       "    </tr>\n",
       "    <tr>\n",
       "      <th>9</th>\n",
       "      <td>3766065</td>\n",
       "      <td>(2016 YM)</td>\n",
       "      <td>0.105817</td>\n",
       "      <td>0.236614</td>\n",
       "      <td>48425.840329</td>\n",
       "      <td>3.835526e+07</td>\n",
       "      <td>Earth</td>\n",
       "      <td>False</td>\n",
       "      <td>22.00</td>\n",
       "      <td>False</td>\n",
       "    </tr>\n",
       "  </tbody>\n",
       "</table>\n",
       "</div>"
      ],
      "text/plain": [
       "         id                 name  est_diameter_min  est_diameter_max  \\\n",
       "0   2162635  162635 (2000 SS164)          1.198271          2.679415   \n",
       "1   2277475    277475 (2005 WK4)          0.265800          0.594347   \n",
       "2   2512244   512244 (2015 YE18)          0.722030          1.614507   \n",
       "3   3596030          (2012 BV13)          0.096506          0.215794   \n",
       "4   3667127          (2014 GE35)          0.255009          0.570217   \n",
       "5  54138696          (2021 GY23)          0.036354          0.081291   \n",
       "6  54189957          (2021 PY40)          0.171615          0.383743   \n",
       "7  54230078           (2021 XD6)          0.005328          0.011914   \n",
       "8   2088213     88213 (2001 AF2)          0.350393          0.783502   \n",
       "9   3766065            (2016 YM)          0.105817          0.236614   \n",
       "\n",
       "   relative_velocity  miss_distance orbiting_body  sentry_object  \\\n",
       "0       13569.249224   5.483974e+07         Earth          False   \n",
       "1       73588.726663   6.143813e+07         Earth          False   \n",
       "2      114258.692129   4.979872e+07         Earth          False   \n",
       "3       24764.303138   2.543497e+07         Earth          False   \n",
       "4       42737.733765   4.627557e+07         Earth          False   \n",
       "5       34297.587778   4.058569e+07         Earth          False   \n",
       "6       27529.472307   2.906912e+07         Earth          False   \n",
       "7       57544.470083   5.511502e+07         Earth          False   \n",
       "8       56625.210122   6.903598e+07         Earth          False   \n",
       "9       48425.840329   3.835526e+07         Earth          False   \n",
       "\n",
       "   absolute_magnitude  hazardous  \n",
       "0               16.73      False  \n",
       "1               20.00       True  \n",
       "2               17.83      False  \n",
       "3               22.20      False  \n",
       "4               20.09       True  \n",
       "5               24.32      False  \n",
       "6               20.95      False  \n",
       "7               28.49      False  \n",
       "8               19.40      False  \n",
       "9               22.00      False  "
      ]
     },
     "execution_count": 7,
     "metadata": {},
     "output_type": "execute_result"
    }
   ],
   "source": [
    "# Now time to explore the dataset, see what's up\n",
    "\n",
    "df.head(n = 10) # look at the first 10 entries of the dataset. Remember this is index counting."
   ]
  },
  {
   "cell_type": "markdown",
   "metadata": {},
   "source": [
    "### Info"
   ]
  },
  {
   "cell_type": "code",
   "execution_count": 8,
   "metadata": {},
   "outputs": [
    {
     "name": "stdout",
     "output_type": "stream",
     "text": [
      "<class 'pandas.core.frame.DataFrame'>\n",
      "RangeIndex: 90836 entries, 0 to 90835\n",
      "Data columns (total 10 columns):\n",
      " #   Column              Non-Null Count  Dtype  \n",
      "---  ------              --------------  -----  \n",
      " 0   id                  90836 non-null  int64  \n",
      " 1   name                90836 non-null  object \n",
      " 2   est_diameter_min    90836 non-null  float64\n",
      " 3   est_diameter_max    90836 non-null  float64\n",
      " 4   relative_velocity   90836 non-null  float64\n",
      " 5   miss_distance       90836 non-null  float64\n",
      " 6   orbiting_body       90836 non-null  object \n",
      " 7   sentry_object       90836 non-null  bool   \n",
      " 8   absolute_magnitude  90836 non-null  float64\n",
      " 9   hazardous           90836 non-null  bool   \n",
      "dtypes: bool(2), float64(5), int64(1), object(2)\n",
      "memory usage: 5.7+ MB\n"
     ]
    }
   ],
   "source": [
    "# Checking for null values\n",
    "\n",
    "df.info()"
   ]
  },
  {
   "cell_type": "markdown",
   "metadata": {},
   "source": [
    "#### Checking for Null Values"
   ]
  },
  {
   "cell_type": "markdown",
   "metadata": {},
   "source": [
    "This confirms there are no missing values in the data set and the data types are correct. "
   ]
  },
  {
   "cell_type": "code",
   "execution_count": 9,
   "metadata": {},
   "outputs": [
    {
     "data": {
      "text/plain": [
       "id                    0\n",
       "name                  0\n",
       "est_diameter_min      0\n",
       "est_diameter_max      0\n",
       "relative_velocity     0\n",
       "miss_distance         0\n",
       "orbiting_body         0\n",
       "sentry_object         0\n",
       "absolute_magnitude    0\n",
       "hazardous             0\n",
       "dtype: int64"
      ]
     },
     "execution_count": 9,
     "metadata": {},
     "output_type": "execute_result"
    }
   ],
   "source": [
    "df.isnull().sum()"
   ]
  },
  {
   "cell_type": "markdown",
   "metadata": {},
   "source": [
    "## Helper Functions"
   ]
  },
  {
   "cell_type": "markdown",
   "metadata": {},
   "source": [
    "Functions to handle the miscellaneous operations for visualizing the data set. These functions will be used to visualize any changes from preprocessing actions. \n"
   ]
  },
  {
   "cell_type": "code",
   "execution_count": 10,
   "metadata": {},
   "outputs": [],
   "source": [
    "# Fun with functions.\n",
    "# We're going to write some functions that will help with data analysis\n",
    "\n",
    "# Function: Save Figure\n",
    "def save_fig(fig_id, fig_dir = pl.Path() / 'figures', tight_layout = True, fig_extension = 'png', resolution = 300):\n",
    "    if not fig_dir.exists():\n",
    "        fig_dir.mkdir(parents = True, exist_ok = True)\n",
    "    path = fig_dir / f\"{fig_id}.{fig_extension}\"\n",
    "    if tight_layout:\n",
    "        plt.tight_layout()\n",
    "    plt.savefig(path, format = fig_extension, dpi = resolution)"
   ]
  },
  {
   "cell_type": "code",
   "execution_count": 11,
   "metadata": {},
   "outputs": [],
   "source": [
    "# Class Distribution Plot\n",
    "def class_dist_plot(df, target):\n",
    "    class_counts = df[target].value_counts()\n",
    "    class_counts.plot(kind = 'bar', rot = 0)\n",
    "    plt.xlabel('Class Label')\n",
    "    plt.ylabel('Count')\n",
    "    plt.title('Class Distribution')"
   ]
  },
  {
   "cell_type": "code",
   "execution_count": 12,
   "metadata": {},
   "outputs": [],
   "source": [
    "#Scatter Plot\n",
    "def scatter_plot(df, x_col, y_col, hue_col = None):\n",
    "    plt.figure(figsize=(20,20))\n",
    "    if hue_col:\n",
    "        sns.scatterplot(data = df, x = x_col, y = y_col, hue = hue_col, alpha = 0.7)\n",
    "    else:\n",
    "        plt.scatter(df[x_col], df[y_col], alpha = 0.5)\n",
    "    plt.xlabel(x_col)\n",
    "    plt.ylabel(y_col)\n",
    "    plt.title(f'{x_col} vs {y_col}')\n",
    "    plt.legend(title = hue_col)\n",
    "    plt.show()"
   ]
  },
  {
   "cell_type": "code",
   "execution_count": 13,
   "metadata": {},
   "outputs": [
    {
     "data": {
      "text/plain": [
       "<Figure size 1000x1000 with 0 Axes>"
      ]
     },
     "metadata": {},
     "output_type": "display_data"
    }
   ],
   "source": [
    "units = {\n",
    "    'estimated_average_diameter': 'kilometers',\n",
    "    'relative_velocity': 'km/s',\n",
    "    'miss_distance': 'kilometers',\n",
    "    'absolute_magnitude': 'mag'\n",
    "}\n",
    "\n",
    "plt.figure(figsize=(10,10))\n",
    "\n",
    "# Formatting Columns Labels\n",
    "def format_column_label(col):\n",
    "    return col.replce('_', ' ').title()\n",
    "\n",
    "label_font_size = 9\n",
    "title_font_size = 10\n",
    "ticks_font_size = 8\n",
    "\n",
    "#Barplot Variables vs Target\n",
    "def barplot_variables_vs_target(df, target, units):\n",
    "    features = [col for col in df.columns if col != target]\n",
    "\n",
    "    num_cols = len(features)\n",
    "    num_rows = (num_cols + 1) // 2\n",
    "\n",
    "    for i, col in enumerate(features, 1):\n",
    "        y_label = f\"{format_column_label(col)}\\n({units.get(col, '')})\"\n",
    "        plt.subplot(num_cols, num_rows, i)\n",
    "        sns.barplot(data = df, x = target, y = col, hue = target, legend = False)\n",
    "        plt.xlabel(target.capitalize(), fontsize = label_font_size)\n",
    "        plt.ylabel(y_label, fontsize = label_font_size)\n",
    "        plt.xticks(fontsize = ticks_font_size)\n",
    "        plt.yticks(fontsize = ticks_font_size)\n",
    "        plt.tight_layout()\n",
    "    \n",
    "    plt.suptitle(f'Variables vs {target.capitalize()}', fontsize = title_font_size, y = 1.02)\n",
    "    plt.show()"
   ]
  },
  {
   "cell_type": "code",
   "execution_count": 14,
   "metadata": {},
   "outputs": [],
   "source": [
    "#XY Graph from the datafram, defined as df\n",
    "\n",
    "def plot_xy_from_df(df, x_col, y_col, hue_col = None, ylim = None):\n",
    "    plt.figure(figsize=(20,20))\n",
    "    if hue_col:\n",
    "        sns.scatterplot(data = df, x = x_col, y = y_col, hue = hue_col, alpha = 0.7)\n",
    "    else:\n",
    "        plt.scatter(df[x_col], df[y_col], alpha = 0.5)\n",
    "    plt.xlabel(x_col)\n",
    "    plt.ylabel(y_col)\n",
    "    plt.ylim(0, ylim)\n",
    "    plt.title(f'{x_col} vs {y_col}')\n",
    "    plt.legend(title = hue_col)\n",
    "    plt.show()"
   ]
  },
  {
   "cell_type": "code",
   "execution_count": 15,
   "metadata": {},
   "outputs": [],
   "source": [
    "#Pair Plot function\n",
    "def pair_plot(df, target):\n",
    "    return sns.pairplot(df, hue = target)"
   ]
  },
  {
   "cell_type": "code",
   "execution_count": 16,
   "metadata": {},
   "outputs": [],
   "source": [
    "#Heat Map function\n",
    "def heat_map(df):\n",
    "    return sns.heatmap(df.corr(), annot=True, linewidths=0.5)"
   ]
  },
  {
   "cell_type": "code",
   "execution_count": 17,
   "metadata": {},
   "outputs": [],
   "source": [
    "#Correlation function. This one gave me a problem earlier\n",
    "def corr_sort(df, target, method='pearson'):\n",
    "    corr_ = df.corr(method = method)\n",
    "    return corr_[target].sort_values(ascending = False)"
   ]
  },
  {
   "cell_type": "code",
   "execution_count": 18,
   "metadata": {},
   "outputs": [],
   "source": [
    "#drop function\n",
    "def drop(df, *features):\n",
    "    return df.copy().drop(columns=list(features))"
   ]
  },
  {
   "cell_type": "code",
   "execution_count": 19,
   "metadata": {},
   "outputs": [],
   "source": [
    "#Logorithmic Transformation\n",
    "def log_transform_feature(df, feature_name):\n",
    "    df_transformed = df.copy()\n",
    "    df_transformed[feature_name] = np.log(df_transformed[feature_name])\n",
    "    return df_transformed"
   ]
  },
  {
   "cell_type": "markdown",
   "metadata": {},
   "source": [
    "## Visualizing and Exploring the Data"
   ]
  },
  {
   "cell_type": "markdown",
   "metadata": {},
   "source": [
    "### Class Distribution"
   ]
  },
  {
   "cell_type": "code",
   "execution_count": 20,
   "metadata": {},
   "outputs": [
    {
     "data": {
      "image/png": "[encoded data removed]",
      "text/plain": [
       "<Figure size 640x480 with 1 Axes>"
      ]
     },
     "metadata": {},
     "output_type": "display_data"
    }
   ],
   "source": [
    "# time for our first graph. To see how many near earth objects in the dataset are considered hazardous\n",
    "\n",
    "class_dist_plot(df, target)\n",
    "save_fig('class_distribution_plot')"
   ]
  },
  {
   "cell_type": "markdown",
   "metadata": {},
   "source": [
    "### Correlation Matrix"
   ]
  },
  {
   "cell_type": "code",
   "execution_count": 21,
   "metadata": {},
   "outputs": [
    {
     "data": {
      "image/png": "[encoded data removed]",
      "text/plain": [
       "<Figure size 640x480 with 2 Axes>"
      ]
     },
     "metadata": {},
     "output_type": "display_data"
    }
   ],
   "source": [
    "# Good old correleaiton matrix. This is part of initial exploration to see which values are irrelevant\n",
    "# and which values we want to mess around with.\n",
    "\n",
    "heat_map(df)\n",
    "save_fig('heat_map')"
   ]
  },
  {
   "cell_type": "code",
   "execution_count": 22,
   "metadata": {},
   "outputs": [
    {
     "data": {
      "text/plain": [
       "miss_distance         1.000000\n",
       "relative_velocity     0.327169\n",
       "est_diameter_min      0.142241\n",
       "est_diameter_max      0.142241\n",
       "hazardous             0.042302\n",
       "id                   -0.056510\n",
       "absolute_magnitude   -0.264168\n",
       "sentry_object              NaN\n",
       "Name: miss_distance, dtype: float64"
      ]
     },
     "execution_count": 22,
     "metadata": {},
     "output_type": "execute_result"
    }
   ],
   "source": [
    "# Now let's see the correleation between miss distance and the rest of the dataset\n",
    "corr_sort(df, 'miss_distance')"
   ]
  },
  {
   "cell_type": "code",
   "execution_count": 23,
   "metadata": {},
   "outputs": [
    {
     "data": {
      "text/plain": [
       "absolute_magnitude    1.000000\n",
       "id                    0.277258\n",
       "miss_distance        -0.264168\n",
       "relative_velocity    -0.353863\n",
       "hazardous            -0.365267\n",
       "est_diameter_max     -0.560188\n",
       "est_diameter_min     -0.560188\n",
       "sentry_object              NaN\n",
       "Name: absolute_magnitude, dtype: float64"
      ]
     },
     "execution_count": 23,
     "metadata": {},
     "output_type": "execute_result"
    }
   ],
   "source": [
    "# Absolute magnitude and the rest of the dataset\n",
    "\n",
    "corr_sort(df, 'absolute_magnitude')"
   ]
  },
  {
   "cell_type": "markdown",
   "metadata": {},
   "source": [
    "#### Scatter Plots"
   ]
  },
  {
   "cell_type": "code",
   "execution_count": 24,
   "metadata": {},
   "outputs": [],
   "source": [
    "\n",
    "pair_plot(df, target)\n",
    "save_fig('pair_plot')"
   ]
  },
  {
   "cell_type": "markdown",
   "metadata": {},
   "source": [
    "## Experiments"
   ]
  },
  {
   "cell_type": "markdown",
   "metadata": {},
   "source": [
    "### Experiment 00: Kaggle Base Model"
   ]
  },
  {
   "cell_type": "markdown",
   "metadata": {},
   "source": [
    "This is a recreation of the Random Forest model from one of the existing [Kaggle](https://www.kaggle.com/code/elnahas/nasa-nearest-earth-objects/notebook) notebooks."
   ]
  },
  {
   "cell_type": "markdown",
   "metadata": {},
   "source": [
    "#### Preprocessing the Data"
   ]
  },
  {
   "cell_type": "code",
   "execution_count": null,
   "metadata": {},
   "outputs": [],
   "source": [
    "'''\n",
    "Like any good science experiment, we want to replicate what our peers have done and see if we get the\n",
    "same results. Now what we want to do is replicate the random forest results from other notebooks.\n",
    "Or just another notebook. Singular.\n",
    "'''\n",
    "\n",
    "#replicating this notebook: https://www.kaggle.com/code/elnahas/nasa-nearest-earth-objects/notebook\n",
    "\n",
    "# First, we get rid of uneeded columns. Can't have strings\n",
    "#It's best to make a copy of the OG dataframe in case you want to run other experiments later on.\n",
    "exp_00 = df.copy()\n",
    "\n",
    "exp_00X = exp_00.drop(columns = ['id', 'name', 'est_diameter_max', 'hazardous', 'miss_distance', 'absolute_magnitude', 'orbiting_body','sentry_object'], axis = 1)"
   ]
  },
  {
   "cell_type": "code",
   "execution_count": null,
   "metadata": {},
   "outputs": [],
   "source": [
    "exp_00X.info()"
   ]
  },
  {
   "cell_type": "code",
   "execution_count": null,
   "metadata": {},
   "outputs": [],
   "source": [
    "exp_00Y = exp_00.hazardous.astype('int')\n",
    "print(exp_00X.shape, exp_00Y.shape)"
   ]
  },
  {
   "cell_type": "markdown",
   "metadata": {},
   "source": [
    "#### Spitting the Data Set"
   ]
  },
  {
   "cell_type": "code",
   "execution_count": null,
   "metadata": {},
   "outputs": [],
   "source": [
    "#AND now we split into train and test sets\n",
    "\n",
    "exp00X_train, exp00X_test, exp00Y_train, exp00Y_test = train_test_split(exp_00X, exp_00Y, test_size = 0.2, random_state = random_state)"
   ]
  },
  {
   "cell_type": "code",
   "execution_count": null,
   "metadata": {},
   "outputs": [],
   "source": [
    "#Making sure the dataset was split accordingly\n",
    "print(\"OG size of dataset: \", df.shape[0])\n",
    "\n",
    "print(\"Size of X training: \", exp00X_train.shape[0])\n",
    "\n",
    "print(\"Size of X test: \", exp00X_test.shape[0])\n",
    "\n",
    "print(\"Size of Y Training: \", exp00Y_train.shape[0])\n",
    "\n",
    "\n",
    "print(\"Size of Y Test: \", exp00Y_test.shape[0])"
   ]
  },
  {
   "cell_type": "markdown",
   "metadata": {},
   "source": [
    "#### Training the Random Forest Model"
   ]
  },
  {
   "cell_type": "code",
   "execution_count": null,
   "metadata": {},
   "outputs": [],
   "source": [
    "# Random Forest\n",
    "\n",
    "from sklearn.ensemble import RandomForestClassifier\n",
    "from sklearn.metrics import accuracy_score\n",
    "\n",
    "random_forest = RandomForestClassifier()\n",
    "random_forest.fit(exp00X_train, exp00Y_train)\n",
    "random_forest_prediction = random_forest.predict(exp00X_test)\n",
    "exp00_accuracy = round(accuracy_score(random_forest_prediction, exp00Y_test) * 100, 2)\n",
    "print(\"Experiment 00 Random Forst Accuracy:\", exp00_accuracy)"
   ]
  },
  {
   "cell_type": "markdown",
   "metadata": {},
   "source": [
    "## Experiment 01: Our Base Model"
   ]
  },
  {
   "cell_type": "code",
   "execution_count": null,
   "metadata": {},
   "outputs": [],
   "source": [
    "'''\n",
    "Now we know what we have to beat. Or attempt to beat. Onwards to experiment 01\n",
    "'''\n",
    "\n",
    "#we grabbing the OG dataset\n",
    "exp_01 = df.copy()"
   ]
  },
  {
   "cell_type": "code",
   "execution_count": null,
   "metadata": {},
   "outputs": [],
   "source": [
    "#We confirming that this is the OG dataset. Turst but verify.\n",
    "exp_01.info()"
   ]
  },
  {
   "cell_type": "markdown",
   "metadata": {},
   "source": [
    "### Preprocessing the Data"
   ]
  },
  {
   "cell_type": "code",
   "execution_count": null,
   "metadata": {},
   "outputs": [],
   "source": [
    "'''\n",
    "We're going to clean up the data but not as much as experiment 00. I'm not sure what the other of the\n",
    "other notebook was thinking but we balling\n",
    "'''\n",
    "\n",
    "exp_01 = drop(exp_01, 'id', 'name', 'orbiting_body', 'sentry_object')\n",
    "\n",
    "exp_01_X = drop(exp_01, 'hazardous')\n",
    "\n",
    "exp_01_Y = exp_01['hazardous']\n",
    "exp_01Y = exp_01.hazardous.astype('int')"
   ]
  },
  {
   "cell_type": "markdown",
   "metadata": {},
   "source": [
    "#### Splitting the Data Set"
   ]
  },
  {
   "cell_type": "code",
   "execution_count": null,
   "metadata": {},
   "outputs": [],
   "source": [
    "#Experiment 01 will be the same as experiment 00 except we keeping all the features.\n",
    "\n",
    "exp01X_train, exp01X_test, exp01Y_train, exp01Y_test = train_test_split(exp_01_X, exp_01Y, test_size = 0.2, random_state = random_state)"
   ]
  },
  {
   "cell_type": "markdown",
   "metadata": {},
   "source": [
    "#### Exploring the Data Set"
   ]
  },
  {
   "cell_type": "code",
   "execution_count": null,
   "metadata": {},
   "outputs": [],
   "source": [
    "exp01X_train.info()"
   ]
  },
  {
   "cell_type": "code",
   "execution_count": null,
   "metadata": {},
   "outputs": [],
   "source": [
    "#Making sure the dataset was split accordingly\n",
    "print(\"OG size of dataset: \", df.shape[0])\n",
    "\n",
    "print(\"Size of X training: \", exp01X_train.shape[0])\n",
    "\n",
    "print(\"Size of X test: \", exp01X_test.shape[0])\n",
    "\n",
    "print(\"Size of Y Training: \", exp01Y_train.shape[0])\n",
    "\n",
    "print(\"Size of Y Test: \", exp01Y_test.shape[0])"
   ]
  },
  {
   "cell_type": "code",
   "execution_count": null,
   "metadata": {},
   "outputs": [],
   "source": [
    "exp01X_train.info()"
   ]
  },
  {
   "cell_type": "markdown",
   "metadata": {},
   "source": [
    "#### Training the Model"
   ]
  },
  {
   "cell_type": "code",
   "execution_count": null,
   "metadata": {},
   "outputs": [],
   "source": [
    "#And now the moment of truth\n",
    "\n",
    "random_forest = RandomForestClassifier()\n",
    "random_forest.fit(exp01X_train, exp01Y_train)\n",
    "random_forest_prediction = random_forest.predict(exp01X_test)\n",
    "exp01_accuracy  = round(accuracy_score(random_forest_prediction, exp01Y_test) * 100, 2)\n",
    "print(\"Experiment 01 Random Forest Accuracy:\", exp01_accuracy )"
   ]
  },
  {
   "cell_type": "markdown",
   "metadata": {},
   "source": [
    "## Experiment 02: Logistic Regression"
   ]
  },
  {
   "cell_type": "markdown",
   "metadata": {},
   "source": [
    "Experiement 02 is the same as Experiment 01, but with implementing logistic regresssion for comparative purposes. Cross validation and  $k$-fold validation are performed as well. "
   ]
  },
  {
   "cell_type": "code",
   "execution_count": null,
   "metadata": {},
   "outputs": [],
   "source": [
    "#91.98% accuracy.\n",
    "# let's make this better. Or at least try to.\n",
    "\n",
    "# Enter grid search aka k-fold validation\n",
    "# Let's set up experiment 02, which will be like experiment 01, but with grid search\n",
    "\n",
    "exp_02_X = exp_01_X.copy()\n",
    "exp_02_Y = exp_01_Y.copy()\n",
    "\n",
    "#exp_02Y = exp_02_Y.hazardous.astype('int')\n",
    "exp_02_Y = exp_01.hazardous.astype('int')\n"
   ]
  },
  {
   "cell_type": "markdown",
   "metadata": {},
   "source": [
    "#### Splitting the Data Set"
   ]
  },
  {
   "cell_type": "code",
   "execution_count": null,
   "metadata": {},
   "outputs": [],
   "source": [
    "\n",
    "exp02X_train, exp02X_test, exp02Y_train, exp02Y_test = train_test_split(exp_02_X, exp_02_Y, test_size = 0.2, random_state=random_state)"
   ]
  },
  {
   "cell_type": "markdown",
   "metadata": {},
   "source": [
    "#### Training the Model"
   ]
  },
  {
   "cell_type": "code",
   "execution_count": null,
   "metadata": {},
   "outputs": [],
   "source": [
    "from sklearn.preprocessing import StandardScaler\n",
    "from sklearn.decomposition import PCA\n",
    "from sklearn.linear_model import LogisticRegression\n",
    "from sklearn.pipeline import make_pipeline\n",
    "\n",
    "pipeline_exp_02 = make_pipeline(StandardScaler(), LogisticRegression(random_state=random_state, solver='lbfgs'))\n",
    "\n",
    "pipeline_exp_02.fit(exp02X_train, exp02Y_train)\n",
    "exp02_y_prediction = pipeline_exp_02.predict(exp02X_test)\n",
    "exp02_accuracy = round(pipeline_exp_02.score(exp02X_test, exp02Y_test) * 100, 2)\n",
    "print(\"Experiment 2 Logistic Regression Accuracy: \", exp02_accuracy)"
   ]
  },
  {
   "cell_type": "markdown",
   "metadata": {},
   "source": [
    "#### Performing $k$-fold Validation"
   ]
  },
  {
   "cell_type": "code",
   "execution_count": null,
   "metadata": {},
   "outputs": [],
   "source": [
    "# k-Fold cross-validation: Experiment 2\n",
    "from sklearn.model_selection import StratifiedKFold\n",
    "\n",
    "exp02_k_fold = StratifiedKFold(n_splits = 4)\n",
    "\n",
    "scores = []\n",
    "for k, (train, test) in enumerate(exp02_k_fold.split(exp02X_train, exp02Y_train)):\n",
    "    X_train_k_fold, X_test_k_fold = exp02X_train.iloc[train], exp02X_train.iloc[test]\n",
    "    y_train_k_fold, y_test_k_fold = exp02Y_train.iloc[train], exp02Y_train.iloc[test]\n",
    "\n",
    "    pipeline_exp_02.fit(X_train_k_fold, y_train_k_fold)\n",
    "    score = pipeline_exp_02.score(X_test_k_fold, y_test_k_fold)\n",
    "    scores.append(score)\n",
    "    print('Fold: %2d, Class dist.: %s, Accuracy: %.3f' % (k+1, np.bincount(y_train_k_fold), score))\n",
    "\n",
    "print('\\nk-Fold Accuracy: %.3f +/- %.3f' % (np.mean(scores), np.std(scores)))"
   ]
  },
  {
   "cell_type": "markdown",
   "metadata": {},
   "source": [
    "#### Performing Cross Validation"
   ]
  },
  {
   "cell_type": "code",
   "execution_count": null,
   "metadata": {},
   "outputs": [],
   "source": [
    "from sklearn.model_selection import cross_val_score\n",
    "\n",
    "scores = cross_val_score(estimator=pipeline_exp_02,\n",
    "                         X=X_train_k_fold,\n",
    "                         y=y_train_k_fold,\n",
    "                         cv=10,\n",
    "                         n_jobs=1)\n",
    "print('CV accuracy scores: %s' % scores)\n",
    "print('CV accuracy: %.3f +/- %.3f' % (np.mean(scores), np.std(scores)))"
   ]
  },
  {
   "cell_type": "markdown",
   "metadata": {},
   "source": [
    "Cross validation and $k$-fold analysis demonstrate the model's robustness, as shown by the consistently close accuracies across folds."
   ]
  },
  {
   "cell_type": "markdown",
   "metadata": {},
   "source": [
    "## Experiment 03: Random Oversampling"
   ]
  },
  {
   "cell_type": "markdown",
   "metadata": {},
   "source": [
    "As depicted in the class distribution graph, there is a disproportionate representation of Near-Earth Objects (NEOs) classified as hazardous compared to those deemed non-hazardous."
   ]
  },
  {
   "cell_type": "code",
   "execution_count": null,
   "metadata": {},
   "outputs": [],
   "source": [
    "exp_03 = exp_01.copy()"
   ]
  },
  {
   "cell_type": "markdown",
   "metadata": {},
   "source": [
    "### Class Distribution Revisited"
   ]
  },
  {
   "cell_type": "code",
   "execution_count": null,
   "metadata": {},
   "outputs": [],
   "source": [
    "hazardous_class_distribution = exp_03['hazardous'].value_counts()\n",
    "print(hazardous_class_distribution)"
   ]
  },
  {
   "cell_type": "code",
   "execution_count": null,
   "metadata": {},
   "outputs": [],
   "source": [
    "# False: 81,996\n",
    "#True: 8,840\n",
    "# looks like we have ourselve a case of unbalanced class distribution.\n",
    "# we shall deal with this using random oversampling.\n",
    "# first: splitting the dataset\n",
    "\n",
    "exp_03_X = drop(exp_03, 'hazardous')"
   ]
  },
  {
   "cell_type": "code",
   "execution_count": null,
   "metadata": {},
   "outputs": [],
   "source": [
    "exp_03_X.info()"
   ]
  },
  {
   "cell_type": "code",
   "execution_count": null,
   "metadata": {},
   "outputs": [],
   "source": [
    "exp_03_Y = exp_03['hazardous']"
   ]
  },
  {
   "cell_type": "code",
   "execution_count": null,
   "metadata": {},
   "outputs": [],
   "source": [
    "exp_03_Y.info()"
   ]
  },
  {
   "cell_type": "code",
   "execution_count": null,
   "metadata": {},
   "outputs": [],
   "source": [
    "minority_class = exp_03[exp_03['hazardous'] == True]\n",
    "majority_class = exp_03[exp_03['hazardous'] == False]"
   ]
  },
  {
   "cell_type": "markdown",
   "metadata": {},
   "source": [
    "#### Performing Random Oversampling"
   ]
  },
  {
   "cell_type": "code",
   "execution_count": null,
   "metadata": {},
   "outputs": [],
   "source": [
    "oversampled_minority = minority_class.sample(n=len(majority_class), replace=True, random_state=random_state)"
   ]
  },
  {
   "cell_type": "code",
   "execution_count": null,
   "metadata": {},
   "outputs": [],
   "source": [
    "balanced_exp_03 = pd.concat([majority_class, oversampled_minority])"
   ]
  },
  {
   "cell_type": "code",
   "execution_count": null,
   "metadata": {},
   "outputs": [],
   "source": [
    "balanced_exp_03 = balanced_exp_03.sample(frac = 1, random_state=random_state)"
   ]
  },
  {
   "cell_type": "code",
   "execution_count": null,
   "metadata": {},
   "outputs": [],
   "source": [
    "balanced_exp_03.info()"
   ]
  },
  {
   "cell_type": "markdown",
   "metadata": {},
   "source": [
    "#### Experiment A"
   ]
  },
  {
   "cell_type": "markdown",
   "metadata": {},
   "source": [
    "##### Splitting the Data Set"
   ]
  },
  {
   "cell_type": "code",
   "execution_count": null,
   "metadata": {},
   "outputs": [],
   "source": [
    "# Now that we've fixed the sampling, let's rerun\n",
    "# experiment 01 & experiment 02 using the balanced dataset\n",
    "\n",
    "#rerunning experiment 1\n",
    "\n",
    "#Experiment 01 will be the same as experiment 00 except we keeping all the features.\n",
    "#Let's call this experiment 03A\n",
    "\n",
    "balanced_exp_03a_X = drop(balanced_exp_03, 'hazardous')\n",
    "balanced_exp_03a_Y = balanced_exp_03['hazardous']\n",
    "\n",
    "balanced_exp_03a_Y = balanced_exp_03.hazardous.astype('int')\n",
    "\n",
    "exp03aX_train, exp03aX_test, exp03aY_train, exp03aY_test = train_test_split(balanced_exp_03a_X, balanced_exp_03a_Y, test_size = 0.2, random_state = random_state)"
   ]
  },
  {
   "cell_type": "markdown",
   "metadata": {},
   "source": [
    "##### Training the Model"
   ]
  },
  {
   "cell_type": "code",
   "execution_count": null,
   "metadata": {},
   "outputs": [],
   "source": [
    "# Ladies and gentlemen, we're back\n",
    "\n",
    "#And now the moment of truth\n",
    "\n",
    "random_forest = RandomForestClassifier()\n",
    "random_forest.fit(exp03aX_train, exp03aY_train)"
   ]
  },
  {
   "cell_type": "markdown",
   "metadata": {},
   "source": [
    "##### Evaluating the Model"
   ]
  },
  {
   "cell_type": "code",
   "execution_count": null,
   "metadata": {},
   "outputs": [],
   "source": [
    "random_forest_prediction = random_forest.predict(exp03aX_test)\n",
    "exp03a_accuracy = round(accuracy_score(random_forest_prediction, exp03aY_test) * 100, 2)\n",
    "print(\"Experiment 03A Random Forest Accuracy:\", exp03a_accuracy)"
   ]
  },
  {
   "cell_type": "markdown",
   "metadata": {},
   "source": [
    "#### Experiment B"
   ]
  },
  {
   "cell_type": "markdown",
   "metadata": {},
   "source": [
    "##### Splitting the Data Set"
   ]
  },
  {
   "cell_type": "code",
   "execution_count": null,
   "metadata": {},
   "outputs": [],
   "source": [
    "#Experiment 3A: 96.91%\n",
    "\n",
    "#Onwards to experiment 3B\n",
    "#NOTE: Experiment 3B is meant to be grid search for random forest with a balanced dataset.\n",
    "#For some reason it's taking forever to run so I will run it at the end, time permitting.\n",
    "#So we move onto experiment 4, feature engineering.\n",
    "#4A will be feature engineering with unbalanced dataset\n",
    "#4B will be feature engineering with balanced dataset\n",
    "\n",
    "balanced_exp_03b_X = drop(balanced_exp_03, 'hazardous')\n",
    "balanced_exp_03b_Y = balanced_exp_03['hazardous']\n",
    "\n",
    "balanced_exp_03b_Y = balanced_exp_03.hazardous.astype('int')\n",
    "\n",
    "exp03bX_train, exp03bX_test, exp03bY_train, exp03bY_test = train_test_split(balanced_exp_03b_X, balanced_exp_03b_Y, test_size = 0.2, random_state = random_state)"
   ]
  },
  {
   "cell_type": "markdown",
   "metadata": {},
   "source": [
    "##### Grid Search"
   ]
  },
  {
   "cell_type": "code",
   "execution_count": null,
   "metadata": {},
   "outputs": [],
   "source": [
    "from sklearn.ensemble import RandomForestClassifier\n",
    "from sklearn.model_selection import GridSearchCV\n",
    "\n",
    "# Define the pipeline with StandardScaler and RandomForestClassifier\n",
    "pipeline_exp_03b = make_pipeline(StandardScaler(), RandomForestClassifier(random_state=random_state))\n",
    "\n",
    "param_grid = {\n",
    "    'randomforestclassifier__n_estimators': [100, 200, 300],  # Number of trees in the forest\n",
    "    'randomforestclassifier__max_depth': [5, 10, 20],       # Maximum depth of the tree\n",
    "    'randomforestclassifier__min_samples_split': [2, 5, 10]    # Minimum number of samples required to split a node\n",
    "}\n",
    "\n",
    "grid_search = GridSearchCV(pipeline_exp_03b, param_grid, cv=5, n_jobs=-1)\n",
    "\n",
    "grid_search.fit(exp03bX_train, exp03bY_train)\n",
    "\n",
    "best_params = grid_search.best_params_\n",
    "best_estimator = grid_search.best_estimator_\n",
    "\n",
    "exp03b_y_prediction = best_estimator.predict(exp03bX_test)\n",
    "\n",
    "exp03b_accuracy = round(best_estimator.score(exp03bX_test, exp03bY_test) * 100, 2)\n",
    "\n",
    "print(\"Test Accuracy:\", exp03b_accuracy)\n",
    "\n",
    "print(\"Best Parameters:\", best_params)"
   ]
  },
  {
   "cell_type": "markdown",
   "metadata": {},
   "source": [
    "##### $k$-Fold Validation"
   ]
  },
  {
   "cell_type": "markdown",
   "metadata": {},
   "source": [
    "Performing $k$-fold validation using the best parameters from the grid search."
   ]
  },
  {
   "cell_type": "code",
   "execution_count": null,
   "metadata": {},
   "outputs": [],
   "source": [
    "# k-Fold cross-validation: Experiment 3b\n",
    "from sklearn.model_selection import StratifiedKFold\n",
    "\n",
    "exp03b_k_fold = StratifiedKFold(n_splits = 4)\n",
    "\n",
    "pipeline_exp_03b_best = make_pipeline(StandardScaler(), RandomForestClassifier(**best_params, random_state=random_state))\n",
    "\n",
    "\n",
    "scores = []\n",
    "for k, (train, test) in enumerate(exp03b_k_fold.split(exp03bX_train, exp03bY_train)):\n",
    "    X_train_k_fold, X_test_k_fold = exp03bX_train.iloc[train], exp03bX_train.iloc[test]\n",
    "    y_train_k_fold, y_test_k_fold = exp03bY_train.iloc[train], exp03bY_train.iloc[test]\n",
    "\n",
    "    pipeline_exp_03b_best.fit(X_train_k_fold, y_train_k_fold)\n",
    "    score = pipeline_exp_03b_best.score(X_test_k_fold, y_test_k_fold)\n",
    "    scores.append(score)\n",
    "    print('Fold: %2d, Class dist.: %s, Accuracy: %.3f' % (k+1, np.bincount(y_train_k_fold), score))\n",
    "\n",
    "print('\\nk-Fold Accuracy: %.3f +/- %.3f' % (np.mean(scores), np.std(scores)))"
   ]
  },
  {
   "cell_type": "markdown",
   "metadata": {},
   "source": [
    "##### Cross Validation"
   ]
  },
  {
   "cell_type": "code",
   "execution_count": null,
   "metadata": {},
   "outputs": [],
   "source": [
    "from sklearn.model_selection import cross_val_score\n",
    "\n",
    "scores = cross_val_score(estimator=pipeline_exp_03b_best,\n",
    "                         X=X_train_k_fold,\n",
    "                         y=y_train_k_fold,\n",
    "                         cv=10,\n",
    "                         n_jobs=1)\n",
    "\n",
    "print('CV Accuracy Scores: %s' % scores)\n",
    "\n",
    "print('CV Accuracy: %.3f +/- %.3f' % (np.mean(scores), np.std(scores)))"
   ]
  },
  {
   "cell_type": "markdown",
   "metadata": {},
   "source": [
    "## Experiment 04: Feature Engineering"
   ]
  },
  {
   "cell_type": "markdown",
   "metadata": {},
   "source": [
    "### Experiment A"
   ]
  },
  {
   "cell_type": "markdown",
   "metadata": {},
   "source": [
    "Experiment A entails creating a new feature and logarithmically transforming it, while dealing with an unbalanced dataset (original)."
   ]
  },
  {
   "cell_type": "code",
   "execution_count": null,
   "metadata": {},
   "outputs": [],
   "source": [
    "#Experiment 4A: Feature engineering w/ unbalanced dataset\n",
    "\n",
    "exp_04A = exp_03.copy()"
   ]
  },
  {
   "cell_type": "code",
   "execution_count": null,
   "metadata": {},
   "outputs": [],
   "source": [
    "exp_04A.info()"
   ]
  },
  {
   "cell_type": "markdown",
   "metadata": {},
   "source": [
    "#### Averaging Estimated Diameters as a new Feature"
   ]
  },
  {
   "cell_type": "code",
   "execution_count": null,
   "metadata": {},
   "outputs": [],
   "source": [
    "#Feature engineering\n",
    "\n",
    "from sklearn.preprocessing import FunctionTransformer\n",
    "\n",
    "exp_04A['est_diameter_avg'] = exp_04A[['est_diameter_min', 'est_diameter_max']].mean(axis=1)\n",
    "exp_04A.drop(['est_diameter_min', 'est_diameter_max'], axis=1, inplace=True)"
   ]
  },
  {
   "cell_type": "code",
   "execution_count": null,
   "metadata": {},
   "outputs": [],
   "source": [
    "exp_04A.info()"
   ]
  },
  {
   "cell_type": "markdown",
   "metadata": {},
   "source": [
    "#### Log Transformation on the new Feature"
   ]
  },
  {
   "cell_type": "code",
   "execution_count": null,
   "metadata": {},
   "outputs": [],
   "source": [
    "log_transformer = FunctionTransformer(np.log, inverse_func=np.exp)\n",
    "log_estDiameter = log_transformer.transform(exp_04A[['est_diameter_avg']])"
   ]
  },
  {
   "cell_type": "markdown",
   "metadata": {},
   "source": [
    "#### Splitting the Data Set"
   ]
  },
  {
   "cell_type": "code",
   "execution_count": null,
   "metadata": {},
   "outputs": [],
   "source": [
    "exp_04A_X = drop(exp_04A, 'hazardous')\n",
    "exp_04A_Y = exp_04A['hazardous']\n",
    "\n",
    "exp_04A_Y = exp_04A.hazardous.astype('int')"
   ]
  },
  {
   "cell_type": "code",
   "execution_count": null,
   "metadata": {},
   "outputs": [],
   "source": [
    "exp04aX_train, exp04aX_test, exp04aY_train, exp04aY_test = train_test_split(exp_04A_X, exp_04A_Y, test_size = 0.2, random_state = random_state)"
   ]
  },
  {
   "cell_type": "markdown",
   "metadata": {},
   "source": [
    "#### Training a Random Forest Model"
   ]
  },
  {
   "cell_type": "code",
   "execution_count": null,
   "metadata": {},
   "outputs": [],
   "source": [
    "random_forest = RandomForestClassifier()\n",
    "random_forest.fit(exp04aX_train, exp04aY_train)\n",
    "random_forest_prediction = random_forest.predict(exp04aX_test)\n",
    "exp04a_accuracy = round(accuracy_score(random_forest_prediction, exp04aY_test) * 100, 2)\n",
    "print(\"Experiment 04A Random Forest Accuracy:\", exp04a_accuracy)"
   ]
  },
  {
   "cell_type": "markdown",
   "metadata": {},
   "source": [
    "### Experiment B"
   ]
  },
  {
   "cell_type": "markdown",
   "metadata": {},
   "source": [
    "Experiment B entails creating a the same feature (estimated_average_diameter) and logarithmically transforming it from Experiment A, but dealing with a balanced dataset."
   ]
  },
  {
   "cell_type": "code",
   "execution_count": null,
   "metadata": {},
   "outputs": [],
   "source": [
    "#Experiment 04A Random Forest Accuracy: 91.61%\n",
    "\n",
    "#Onwards to 04B: Same as 04A except using the balanced dataset 0f 03\n",
    "\n",
    "exp_04B = balanced_exp_03.copy()"
   ]
  },
  {
   "cell_type": "markdown",
   "metadata": {},
   "source": [
    "#### Averaging Estimated Diameters as a new Feature"
   ]
  },
  {
   "cell_type": "markdown",
   "metadata": {},
   "source": [
    "This is the same as Experiment 04: A."
   ]
  },
  {
   "cell_type": "code",
   "execution_count": null,
   "metadata": {},
   "outputs": [],
   "source": [
    "exp_04B['est_diameter_avg'] = exp_04B[['est_diameter_min', 'est_diameter_max']].mean(axis=1)\n",
    "exp_04B.drop(['est_diameter_min', 'est_diameter_max'], axis=1, inplace=True)"
   ]
  },
  {
   "cell_type": "markdown",
   "metadata": {},
   "source": [
    "#### Log Transformation on the new Feature"
   ]
  },
  {
   "cell_type": "markdown",
   "metadata": {},
   "source": [
    "This is the same as Experiment 04: A."
   ]
  },
  {
   "cell_type": "code",
   "execution_count": null,
   "metadata": {},
   "outputs": [],
   "source": [
    "log_transformer = FunctionTransformer(np.log, inverse_func=np.exp)\n",
    "log_estDiameter = log_transformer.transform(exp_04B[['est_diameter_avg']])"
   ]
  },
  {
   "cell_type": "markdown",
   "metadata": {},
   "source": [
    "#### Splitting the Data Set"
   ]
  },
  {
   "cell_type": "code",
   "execution_count": null,
   "metadata": {},
   "outputs": [],
   "source": [
    "exp_04B_X = drop(exp_04B, 'hazardous')\n",
    "exp_04B_Y = exp_04B['hazardous']\n",
    "\n",
    "exp_04B_Y = exp_04B.hazardous.astype('int')"
   ]
  },
  {
   "cell_type": "code",
   "execution_count": null,
   "metadata": {},
   "outputs": [],
   "source": [
    "exp04bX_train, exp04bX_test, exp04bY_train, exp04bY_test = train_test_split(exp_04B_X, exp_04B_Y, test_size = 0.2, random_state = random_state)"
   ]
  },
  {
   "cell_type": "markdown",
   "metadata": {},
   "source": [
    "#### Training a Random Forest Model"
   ]
  },
  {
   "cell_type": "code",
   "execution_count": null,
   "metadata": {},
   "outputs": [],
   "source": [
    "random_forest = RandomForestClassifier()\n",
    "random_forest.fit(exp04bX_train, exp04bY_train)\n",
    "random_forest_prediction = random_forest.predict(exp04bX_test)\n",
    "exp04b_accuracy = round(accuracy_score(random_forest_prediction, exp04bY_test) * 100, 2)\n",
    "\n",
    "print(\"Experiment 04B Random Forest Accuracy\", exp04b_accuracy)"
   ]
  },
  {
   "cell_type": "markdown",
   "metadata": {},
   "source": [
    "#### Grid Search"
   ]
  },
  {
   "cell_type": "markdown",
   "metadata": {},
   "source": [
    "Let's determine the best model parameters for our best performing model. "
   ]
  },
  {
   "cell_type": "code",
   "execution_count": null,
   "metadata": {},
   "outputs": [],
   "source": [
    "from sklearn.ensemble import RandomForestClassifier\n",
    "from sklearn.model_selection import GridSearchCV\n",
    "\n",
    "# Define the pipeline with StandardScaler and RandomForestClassifier\n",
    "pipeline_exp_04b = make_pipeline(StandardScaler(), RandomForestClassifier(random_state=random_state))\n",
    "\n",
    "param_grid = {\n",
    "    'randomforestclassifier__n_estimators': [100, 200, 300],  # Number of trees in the forest\n",
    "    'randomforestclassifier__max_depth': [5, 10, 20],       # Maximum depth of the tree\n",
    "    'randomforestclassifier__min_samples_split': [2, 5, 10]    # Minimum number of samples required to split a node\n",
    "}\n",
    "\n",
    "grid_search = GridSearchCV(pipeline_exp_03b, param_grid, cv=5, n_jobs=-1)\n",
    "\n",
    "grid_search.fit(exp03bX_train, exp03bY_train)\n",
    "\n",
    "best_params = grid_search.best_params_\n",
    "best_estimator = grid_search.best_estimator_\n",
    "\n",
    "exp04b_y_prediction = best_estimator.predict(exp04bX_test)\n",
    "\n",
    "best_accuracy = round(best_estimator.score(exp04bX_test, exp04bY_test) * 100, 2)\n",
    "\n",
    "print(\"Best Test Accuracy:\", best_accuracy)\n",
    "\n",
    "print(\"Best Parameters:\", best_params)"
   ]
  },
  {
   "cell_type": "markdown",
   "metadata": {},
   "source": [
    "## Comparing the Results"
   ]
  },
  {
   "cell_type": "code",
   "execution_count": null,
   "metadata": {},
   "outputs": [],
   "source": [
    "print(\"Experiment 00 Random Forest Accuracy:\", exp00_accuracy )\n",
    "\n",
    "print(\"Experiment 01 Random Forest Accuracy:\", exp01_accuracy )\n",
    "\n",
    "print(\"Experiment 02 Logistic Regression Accuracy: \", exp02_accuracy)\n",
    "\n",
    "print(\"Experiment 03A Test Accuracy:\", exp03a_accuracy)\n",
    "\n",
    "print(\"Experiment 03B Test Accuracy:\", exp03b_accuracy)\n",
    "\n",
    "print(\"Experiment 04A Random Forest Accuracy:\", exp04a_accuracy)\n",
    "\n",
    "print(\"Experiment 04B Random Forest Accuracy\", exp04b_accuracy)"
   ]
  },
  {
   "cell_type": "markdown",
   "metadata": {},
   "source": [
    "## Our Best Performing Model"
   ]
  },
  {
   "cell_type": "markdown",
   "metadata": {},
   "source": [
    "Our best performing model is from Experiment 04B, utilizing a Random Forest algorithm that incorporates a newly engineered feature, 'estimated_average_diameter,' scaled logarithmically, and with an evenly distributed class representation. Aftering performing grid search, we got the follow accuracy score with the best paramaters:"
   ]
  },
  {
   "cell_type": "code",
   "execution_count": null,
   "metadata": {},
   "outputs": [],
   "source": [
    "best_params"
   ]
  },
  {
   "cell_type": "code",
   "execution_count": null,
   "metadata": {},
   "outputs": [],
   "source": [
    "best_accuracy"
   ]
  }
 ],
 "metadata": {
  "kernelspec": {
   "display_name": "base",
   "language": "python",
   "name": "python3"
  },
  "language_info": {
   "codemirror_mode": {
    "name": "ipython",
    "version": 3
   },
   "file_extension": ".py",
   "mimetype": "text/x-python",
   "name": "python",
   "nbconvert_exporter": "python",
   "pygments_lexer": "ipython3",
   "version": "3.10.11"
  },
  "orig_nbformat": 4
 },
 "nbformat": 4,
 "nbformat_minor": 2
}
